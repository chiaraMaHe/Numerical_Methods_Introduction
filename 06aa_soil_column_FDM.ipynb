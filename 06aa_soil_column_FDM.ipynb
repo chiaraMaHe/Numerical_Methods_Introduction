{
 "cells": [
  {
   "cell_type": "markdown",
   "metadata": {
    "deletable": false,
    "editable": false
   },
   "source": [
    "![Logo TUBAF](https://tu-freiberg.de/sites/default/files/media/freiberger-alumni-netzwerk-6127/wbm_orig_rgb_0.jpg)\n",
    "\n",
    "Exercise material of the MSc-level course **Numerical Methods in Geotechnical Engineering**.\n",
    "Held at Technische Universität Bergakademie Freiberg.\n",
    "\n",
    "Comments to:\n",
    "\n",
    "*Prof. Dr. Thomas Nagel  \n",
    "Chair of Soil Mechanics and Foundation Engineering  \n",
    "Geotechnical Institute  \n",
    "Technische Universität Bergakademie Freiberg.*\n",
    "\n",
    "https://tu-freiberg.de/en/fakultaet3/gt/soilmechanics\n"
   ]
  },
  {
   "cell_type": "code",
   "execution_count": 79,
   "metadata": {},
   "outputs": [],
   "source": [
    "import numpy as np\n",
    "import matplotlib.pyplot as plt\n",
    "\n",
    "#Some plot settings\n",
    "import plot_functions.plot_settings"
   ]
  },
  {
   "cell_type": "markdown",
   "metadata": {},
   "source": [
    "# Exercise 6 - Finite differences: soil column under gravity and top load\n",
    "\n",
    "## Governing differential equation\n",
    "\n",
    "Consider the equilibrium conditions on an infinitesimal element of the soil column:\n",
    "\n",
    "$$\n",
    "    \\uparrow: \\quad F_z - \\frac{\\partial F_z}{\\partial z}\\text{d}z - F_z - \\varrho g A \\text{d}z = 0\n",
    "$$\n",
    "\n",
    "The vertical force is determined by $F_z = \\sigma_{zz}A = E_\\text{s} A \\epsilon_{zz} = -E_\\text{s} A u_{z,z}$. Therefore, the equilibrium conditions read:\n",
    "\n",
    "$$\n",
    "    0 = \\left[ \\frac{\\partial}{\\partial z} \\left(E_\\text{s} A \\frac{\\partial u_z}{\\partial z}\\right) - \\varrho g A \\right]\\text{d}z\n",
    "$$\n",
    "\n",
    "Considering, that the equation has to hold for an arbitrary infinitesimal non-zero $\\text{d}z$, we find the ordinary differential equation\n",
    "\n",
    "$$\n",
    "    0 = \\frac{\\partial}{\\partial z} \\left(E_\\text{s} A \\frac{\\partial u_z}{\\partial z}\\right) - \\varrho g A\n",
    "$$\n",
    "\n",
    "Nota bene: compare this to the differential equation for a rod ('Zugstab'): $(EAu')' + n = 0$. While the cross section of a rod can vary along its length, the cross-sectional area of a soil column is considered a constant, simplifying the equation further:\n",
    "\n",
    "$$\n",
    "    0 = \\frac{\\partial}{\\partial z} \\left(E_\\text{s} \\frac{\\partial u_z}{\\partial z}\\right) - \\varrho g\n",
    "$$\n",
    "\n"
   ]
  },
  {
   "cell_type": "markdown",
   "metadata": {},
   "source": [
    "Let's put this to test."
   ]
  },
  {
   "cell_type": "markdown",
   "metadata": {},
   "source": [
    "## Finite difference discretization\n",
    "\n",
    "We assume $E_\\text{s} = \\text{const.}$ and arrive at\n",
    "\n",
    "$$\n",
    "    \\frac{\\partial^2 u_z}{\\partial z^2} = \\frac{\\gamma}{E_\\text{s}}\n",
    "$$\n",
    "\n",
    "In the finite difference method, we introduce a grid made up, in the one-dimensional case, of a series of points. The differentials are the evaluated by finite differences between values at these points:\n",
    "\n",
    "$$\n",
    "    \\frac{\\partial u_z}{\\partial z} \\approx \\frac{\\Delta u_z}{\\Delta z} = \\frac{u_i - u_{i-1}}{z_i - z_{i-1}} = u_i'\n",
    "$$\n",
    "\n",
    "where here, backward differences were chosen (viz. forward and central differences). We also assume a constant $\\Delta z$ here.\n",
    "\n",
    "A second derivative can likewise be approximated (now using forward differences):\n",
    "\n",
    "$$\n",
    "    \\frac{\\partial^2 u_z}{\\partial z^2} \\approx u_i'' = \\frac{u_{i+1}' - u_i'}{\\Delta z}\n",
    "$$\n",
    "\n",
    "Substitution of the first derivatives yields:\n",
    "\n",
    "$$\n",
    "    \\frac{\\partial^2 u_z}{\\partial z^2} \\approx u_i'' = \\frac{u_{i+1} - 2 u_i + u_{i-1}}{\\Delta z^2}\n",
    "$$\n",
    "\n",
    "Our differential equation has now transformed into a finite difference equation evaluated at a series of points $i$ as:\n",
    "\n",
    "$$\n",
    "u_{i+1} - 2 u_i + u_{i-1} = \\Delta z^2 \\frac{\\gamma_i}{E_{\\text{s},i}}\n",
    "$$"
   ]
  },
  {
   "cell_type": "markdown",
   "metadata": {},
   "source": [
    "We collect all solutions $u_i$ and $z_i$ in a vector."
   ]
  },
  {
   "cell_type": "code",
   "execution_count": 80,
   "metadata": {},
   "outputs": [],
   "source": [
    "H = 10.\n",
    "number_of_points = 10\n",
    "Delta_z = H/(number_of_points - 1)\n",
    "z = np.linspace(0,H,number_of_points)"
   ]
  },
  {
   "cell_type": "markdown",
   "metadata": {},
   "source": [
    "The right-hand side is identical in every point, unless the stiffness or the specific weight changes with depth."
   ]
  },
  {
   "cell_type": "code",
   "execution_count": 81,
   "metadata": {},
   "outputs": [],
   "source": [
    "gamma = 2600. * (1.-0.38) * 9.81 # N/m³\n",
    "Es = 1.e8 #Pa\n",
    "RHS = np.ones(number_of_points) * gamma/Es * Delta_z**2"
   ]
  },
  {
   "cell_type": "markdown",
   "metadata": {},
   "source": [
    "The left hand side can be expressed via the finite difference matrix $A_{ij}$:"
   ]
  },
  {
   "cell_type": "code",
   "execution_count": 82,
   "metadata": {},
   "outputs": [],
   "source": [
    "Central_Diag = np.diag([-2.]*number_of_points,0)\n",
    "#Central_Diag"
   ]
  },
  {
   "cell_type": "code",
   "execution_count": 83,
   "metadata": {},
   "outputs": [],
   "source": [
    "Upper_Diag = np.diag([1.]*(number_of_points-1),1)\n",
    "Lower_Diag = np.diag([1.]*(number_of_points-1),-1)"
   ]
  },
  {
   "cell_type": "code",
   "execution_count": 84,
   "metadata": {},
   "outputs": [],
   "source": [
    "A = Central_Diag + Upper_Diag + Lower_Diag"
   ]
  },
  {
   "cell_type": "markdown",
   "metadata": {},
   "source": [
    "Let's give this a shot and solve it."
   ]
  },
  {
   "cell_type": "code",
   "execution_count": 85,
   "metadata": {},
   "outputs": [],
   "source": [
    "u = np.linalg.solve(A,RHS)"
   ]
  },
  {
   "cell_type": "code",
   "execution_count": 86,
   "metadata": {},
   "outputs": [
    {
     "data": {
      "image/png": "[encoded data removed]",
      "text/plain": [
       "<Figure size 864x576 with 1 Axes>"
      ]
     },
     "metadata": {
      "needs_background": "light"
     },
     "output_type": "display_data"
    }
   ],
   "source": [
    "plt.plot(u*100,z)\n",
    "plt.xlabel('$u_z$ / cm')\n",
    "plt.ylabel('$z$ / m');"
   ]
  },
  {
   "cell_type": "markdown",
   "metadata": {},
   "source": [
    "That doesn't look plausible. What's missing are the boundary conditions: \n",
    "\n",
    "$$\n",
    "    u (z = 0) = 0 \\qquad u'(z=H) = 0\n",
    "$$\n",
    "\n",
    "They can be integrated easily by manipulating the first and last equations (rows)."
   ]
  },
  {
   "cell_type": "code",
   "execution_count": 87,
   "metadata": {},
   "outputs": [],
   "source": [
    "#lower bc\n",
    "A[0,:] = 0.\n",
    "A[0,0] = 1.\n",
    "RHS[0] = 0."
   ]
  },
  {
   "cell_type": "code",
   "execution_count": 88,
   "metadata": {},
   "outputs": [],
   "source": [
    "#upper bc\n",
    "A[-1,-1] = -1.\n",
    "RHS[-1] = 0."
   ]
  },
  {
   "cell_type": "markdown",
   "metadata": {},
   "source": [
    "Let's solve the system with the boundary conditions now."
   ]
  },
  {
   "cell_type": "code",
   "execution_count": 89,
   "metadata": {},
   "outputs": [
    {
     "data": {
      "image/png": "[encoded data removed]",
      "text/plain": [
       "<Figure size 864x576 with 1 Axes>"
      ]
     },
     "metadata": {
      "needs_background": "light"
     },
     "output_type": "display_data"
    }
   ],
   "source": [
    "u = np.linalg.solve(A,RHS)\n",
    "plt.plot(u*100,z)\n",
    "plt.xlabel('$u_z$ / cm')\n",
    "plt.ylabel('$z$ / m');"
   ]
  },
  {
   "cell_type": "markdown",
   "metadata": {},
   "source": [
    "This looks plausible. Let's go ahead and perform a basic exploration of the numerical properties of the scheme.\n",
    "\n",
    "We first define a simulation run and then vary the number of grid points."
   ]
  },
  {
   "cell_type": "code",
   "execution_count": 90,
   "metadata": {},
   "outputs": [],
   "source": [
    "def run_sim(number_of_points):\n",
    "    #discretization\n",
    "    Delta_z = H/(number_of_points - 1)\n",
    "    z = np.linspace(0,H,number_of_points)\n",
    "    #RHS\n",
    "    RHS = np.ones(number_of_points) * gamma/Es * Delta_z**2\n",
    "    #FD Matrix\n",
    "    A = np.diag([-2.]*number_of_points,0) + np.diag([1.]*(number_of_points-1),1) + np.diag([1.]*(number_of_points-1),-1)\n",
    "    #lower bc\n",
    "    A[0,:] = 0.\n",
    "    A[0,0] = 1.\n",
    "    RHS[0] = 0\n",
    "    #upper bc\n",
    "    A[-1,-1] = -1.\n",
    "    RHS[-1] = 0.\n",
    "    #solution\n",
    "    return np.linalg.solve(A,RHS), z"
   ]
  },
  {
   "cell_type": "code",
   "execution_count": 91,
   "metadata": {},
   "outputs": [
    {
     "data": {
      "application/vnd.jupyter.widget-view+json": {
       "model_id": "5f6dba67718748e8b007cc3fe7982271",
       "version_major": 2,
       "version_minor": 0
      },
      "text/plain": [
       "interactive(children=(IntSlider(value=10, description='nodes', min=5), Output()), _dom_classes=('widget-intera…"
      ]
     },
     "metadata": {},
     "output_type": "display_data"
    }
   ],
   "source": [
    "## Interactive playground\n",
    "\n",
    "from ipywidgets import widgets\n",
    "from ipywidgets import interact\n",
    "#Compute reference solution with 100 cells\n",
    "\n",
    "reference_solution, reference_z = run_sim(1000)\n",
    "@interact(num_nodes=widgets.IntSlider(min=5, max=100, value=10, step=1, description='nodes'))\n",
    "def plot(num_nodes=10):\n",
    "    fig,ax = plt.subplots()\n",
    "    ax.set_ylabel('$z$ / m')\n",
    "    ax.set_xlabel('$u_z$ / cm')\n",
    "    solution, z = run_sim(num_nodes)\n",
    "    ax.plot(reference_solution*1e2, reference_z, '--', color='k', label='reference solution')\n",
    "    ax.plot(solution*1e2,z,label='solution')\n",
    "    ax.set_ylim([0,10])\n",
    "    plt.show()"
   ]
  },
  {
   "cell_type": "markdown",
   "metadata": {},
   "source": [
    "Convergence of this simple scheme is rather low. A comparatively simple finite element scheme converges much faster, as we shall see in one of the following exercises."
   ]
  },
  {
   "cell_type": "code",
   "execution_count": null,
   "metadata": {},
   "outputs": [],
   "source": []
  }
 ],
 "metadata": {
  "kernelspec": {
   "display_name": "Python 3",
   "language": "python",
   "name": "python3"
  },
  "language_info": {
   "codemirror_mode": {
    "name": "ipython",
    "version": 3
   },
   "file_extension": ".py",
   "mimetype": "text/x-python",
   "name": "python",
   "nbconvert_exporter": "python",
   "pygments_lexer": "ipython3",
   "version": "3.8.5"
  }
 },
 "nbformat": 4,
 "nbformat_minor": 4
}
